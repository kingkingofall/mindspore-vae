{
 "cells": [
  {
   "cell_type": "code",
   "execution_count": 1,
   "id": "90c02109-b40e-4be8-94a2-d3cfab0ff8a9",
   "metadata": {},
   "outputs": [],
   "source": [
    "# Imports\n",
    "import mindspore\n",
    "import mindspore as ms\n",
    "from mindspore import nn, context, Tensor, ops\n",
    "from mindspore import dtype as mstype\n",
    "import mindspore.dataset as ds\n",
    "import mindspore.dataset.transforms as C\n",
    "import mindspore.dataset.vision as vision\n",
    "import mindspore.nn.probability.distribution as msd\n",
    "import numpy as np\n",
    "from mindspore.dataset.transforms import Compose\n",
    "context.set_context(device_target='CPU')\n",
    "batch_size = 128\n",
    "\n",
    "class Encoder(nn.Cell):\n",
    "    def __init__(self, D_in, H, latent_size):\n",
    "        super(Encoder, self).__init__()\n",
    "        self.linear1 = nn.Dense(D_in, H)\n",
    "        self.linear2 = nn.Dense(H, latent_size)\n",
    "        self.linear3 = nn.Dense(H, latent_size)\n",
    "        self.relu = nn.ReLU()\n",
    "\n",
    "    def construct(self, x):\n",
    "        x = x.reshape(batch_size, -1)\n",
    "        x = self.linear1(x)\n",
    "        x = self.relu(x)\n",
    "        mu = self.linear2(x)\n",
    "        sigma = self.linear3(x)\n",
    "        return mu, sigma\n",
    "\n",
    "\n",
    "class Decoder(nn.Cell):\n",
    "    def __init__(self, D_in, H, D_out):\n",
    "        super(Decoder, self).__init__()\n",
    "        self.linear1 = nn.Dense(D_in, H)\n",
    "        self.linear2 = nn.Dense(H, D_out)\n",
    "        self.relu = nn.ReLU()\n",
    "        self.sigmoid = nn.Sigmoid()\n",
    "\n",
    "    def construct(self, x):\n",
    "        x = self.relu(self.linear1(x))\n",
    "        return self.sigmoid(self.linear2(x))\n",
    "class VAE(nn.Cell):\n",
    "    def __init__(self, encoder, decoder):\n",
    "        super(VAE, self).__init__()\n",
    "        self.encoder = encoder\n",
    "        self.decoder = decoder\n",
    "        self.n = msd.Normal(0.0, 1.0)\n",
    "    def construct(self, x):\n",
    "        mu, std = self.encoder(x)\n",
    "        z = self.sample(mu, std)\n",
    "        return self.decoder(z), mu, std\n",
    "\n",
    "    def sample(self, mu, std):\n",
    "        std = ops.exp(0.5 * std)\n",
    "        eps = self.n.sample(std.shape)\n",
    "        z = mu + eps * std\n",
    "        return z\n",
    "\n",
    "def kl_loss(shape, mean, std):\n",
    "    loss = 0.5 * (\n",
    "                1 + 2 * std - mean ** 2 - ms.ops.Exp()(std)**2).sum()\n",
    "    return loss\n",
    "\n",
    "class VAELoss(mindspore.nn.Cell):\n",
    "    def __init__(self, net):\n",
    "        super().__init__()\n",
    "        self.net = net\n",
    "        self.loss_fn = mindspore.nn.BCEWithLogitsLoss()\n",
    "\n",
    "    def construct(self, x):\n",
    "        predict, mean, std = self.net(x)\n",
    "        klloss = kl_loss(predict.shape[0], mean, std)\n",
    "        loss = ops.binary_cross_entropy(predict, x.reshape(batch_size, -1), reduction='sum')\n",
    "        return loss - klloss\n",
    "\n"
   ]
  },
  {
   "cell_type": "code",
   "execution_count": 2,
   "id": "5c385e6a-cbae-41d7-bd10-ab5c5f524fdb",
   "metadata": {},
   "outputs": [
    {
     "name": "stdout",
     "output_type": "stream",
     "text": [
      "VAE<\n",
      "  (encoder): Encoder<\n",
      "    (linear1): Dense<input_channels=784, output_channels=512, has_bias=True>\n",
      "    (linear2): Dense<input_channels=512, output_channels=8, has_bias=True>\n",
      "    (linear3): Dense<input_channels=512, output_channels=8, has_bias=True>\n",
      "    (relu): ReLU<>\n",
      "    >\n",
      "  (decoder): Decoder<\n",
      "    (linear1): Dense<input_channels=8, output_channels=512, has_bias=True>\n",
      "    (linear2): Dense<input_channels=512, output_channels=784, has_bias=True>\n",
      "    (relu): ReLU<>\n",
      "    (sigmoid): Sigmoid<>\n",
      "    >\n",
      "  (n): Normal<mean = 0.0, standard deviation = 1.0>\n",
      "  >\n"
     ]
    }
   ],
   "source": [
    "num_epochs = 50\n",
    "learning_rate = 0.001\n",
    "hidden_size = 512\n",
    "latent_size = 8\n",
    "input_dim = 28 * 28\n",
    "\n",
    "transform = C.Compose([\n",
    "    vision.ToTensor(),\n",
    "    ])\n",
    "\n",
    "mnist_dataset = ds.MnistDataset('./mnist/train')\n",
    "mnist_dataset = mnist_dataset.map(operations=transform, input_columns=[\"image\"])\n",
    "dataset = mnist_dataset.batch(batch_size, drop_remainder=True)\n",
    "iterator = dataset.create_dict_iterator()\n",
    "\n",
    "encoder = Encoder(input_dim, hidden_size, latent_size)\n",
    "decoder = Decoder(latent_size, hidden_size, input_dim)\n",
    "\n",
    "vae = VAE(encoder, decoder)\n",
    "print(vae)\n",
    "optimizer = nn.Adam(vae.trainable_params(), learning_rate)\n",
    "loss_fn = VAELoss(vae)\n",
    "train_net = mindspore.nn.TrainOneStepCell(loss_fn, optimizer)\n",
    "\n"
   ]
  },
  {
   "cell_type": "code",
   "execution_count": null,
   "id": "44ca1629-00c5-4e5d-98e2-2e6700ce26f6",
   "metadata": {},
   "outputs": [
    {
     "name": "stderr",
     "output_type": "stream",
     "text": [
      "468it [00:59,  7.83it/s]\n",
      "1it [00:00,  7.83it/s]"
     ]
    },
    {
     "name": "stdout",
     "output_type": "stream",
     "text": [
      "step 0 22275.52\n"
     ]
    },
    {
     "name": "stderr",
     "output_type": "stream",
     "text": [
      "468it [00:57,  8.15it/s]\n",
      "1it [00:00,  8.16it/s]"
     ]
    },
    {
     "name": "stdout",
     "output_type": "stream",
     "text": [
      "step 1 18724.945\n"
     ]
    },
    {
     "name": "stderr",
     "output_type": "stream",
     "text": [
      "468it [00:57,  8.21it/s]\n",
      "1it [00:00,  8.39it/s]"
     ]
    },
    {
     "name": "stdout",
     "output_type": "stream",
     "text": [
      "step 2 18001.623\n"
     ]
    },
    {
     "name": "stderr",
     "output_type": "stream",
     "text": [
      "468it [00:57,  8.21it/s]\n",
      "1it [00:00,  8.18it/s]"
     ]
    },
    {
     "name": "stdout",
     "output_type": "stream",
     "text": [
      "step 3 17401.371\n"
     ]
    },
    {
     "name": "stderr",
     "output_type": "stream",
     "text": [
      "468it [00:57,  8.14it/s]\n",
      "1it [00:00,  8.11it/s]"
     ]
    },
    {
     "name": "stdout",
     "output_type": "stream",
     "text": [
      "step 4 16955.8\n"
     ]
    },
    {
     "name": "stderr",
     "output_type": "stream",
     "text": [
      "468it [00:56,  8.31it/s]\n",
      "1it [00:00,  8.37it/s]"
     ]
    },
    {
     "name": "stdout",
     "output_type": "stream",
     "text": [
      "step 5 16819.031\n"
     ]
    },
    {
     "name": "stderr",
     "output_type": "stream",
     "text": [
      "468it [00:57,  8.18it/s]\n",
      "1it [00:00,  7.67it/s]"
     ]
    },
    {
     "name": "stdout",
     "output_type": "stream",
     "text": [
      "step 6 15996.912\n"
     ]
    },
    {
     "name": "stderr",
     "output_type": "stream",
     "text": [
      "468it [00:57,  8.15it/s]\n",
      "1it [00:00,  8.35it/s]"
     ]
    },
    {
     "name": "stdout",
     "output_type": "stream",
     "text": [
      "step 7 15904.043\n"
     ]
    },
    {
     "name": "stderr",
     "output_type": "stream",
     "text": [
      "468it [00:57,  8.20it/s]\n",
      "1it [00:00,  8.33it/s]"
     ]
    },
    {
     "name": "stdout",
     "output_type": "stream",
     "text": [
      "step 8 16238.233\n"
     ]
    },
    {
     "name": "stderr",
     "output_type": "stream",
     "text": [
      "468it [00:57,  8.15it/s]\n",
      "1it [00:00,  7.50it/s]"
     ]
    },
    {
     "name": "stdout",
     "output_type": "stream",
     "text": [
      "step 9 16221.535\n"
     ]
    },
    {
     "name": "stderr",
     "output_type": "stream",
     "text": [
      "468it [00:55,  8.40it/s]\n",
      "1it [00:00,  8.54it/s]"
     ]
    },
    {
     "name": "stdout",
     "output_type": "stream",
     "text": [
      "step 10 16206.09\n"
     ]
    },
    {
     "name": "stderr",
     "output_type": "stream",
     "text": [
      "468it [00:55,  8.40it/s]\n",
      "1it [00:00,  8.60it/s]"
     ]
    },
    {
     "name": "stdout",
     "output_type": "stream",
     "text": [
      "step 11 16819.361\n"
     ]
    },
    {
     "name": "stderr",
     "output_type": "stream",
     "text": [
      "468it [00:55,  8.41it/s]\n",
      "1it [00:00,  8.55it/s]"
     ]
    },
    {
     "name": "stdout",
     "output_type": "stream",
     "text": [
      "step 12 16785.748\n"
     ]
    },
    {
     "name": "stderr",
     "output_type": "stream",
     "text": [
      "468it [00:56,  8.32it/s]\n",
      "1it [00:00,  8.32it/s]"
     ]
    },
    {
     "name": "stdout",
     "output_type": "stream",
     "text": [
      "step 13 16440.379\n"
     ]
    },
    {
     "name": "stderr",
     "output_type": "stream",
     "text": [
      "468it [00:56,  8.24it/s]\n",
      "1it [00:00,  8.44it/s]"
     ]
    },
    {
     "name": "stdout",
     "output_type": "stream",
     "text": [
      "step 14 16740.123\n"
     ]
    },
    {
     "name": "stderr",
     "output_type": "stream",
     "text": [
      "468it [00:56,  8.33it/s]\n",
      "1it [00:00,  8.42it/s]"
     ]
    },
    {
     "name": "stdout",
     "output_type": "stream",
     "text": [
      "step 15 15817.041\n"
     ]
    },
    {
     "name": "stderr",
     "output_type": "stream",
     "text": [
      "468it [00:56,  8.23it/s]\n",
      "1it [00:00,  8.09it/s]"
     ]
    },
    {
     "name": "stdout",
     "output_type": "stream",
     "text": [
      "step 16 16496.55\n"
     ]
    },
    {
     "name": "stderr",
     "output_type": "stream",
     "text": [
      "468it [00:56,  8.28it/s]\n",
      "1it [00:00,  8.54it/s]"
     ]
    },
    {
     "name": "stdout",
     "output_type": "stream",
     "text": [
      "step 17 15851.519\n"
     ]
    },
    {
     "name": "stderr",
     "output_type": "stream",
     "text": [
      "468it [00:56,  8.30it/s]\n",
      "1it [00:00,  8.25it/s]"
     ]
    },
    {
     "name": "stdout",
     "output_type": "stream",
     "text": [
      "step 18 15166.6\n"
     ]
    },
    {
     "name": "stderr",
     "output_type": "stream",
     "text": [
      "468it [00:56,  8.22it/s]\n",
      "1it [00:00,  8.05it/s]"
     ]
    },
    {
     "name": "stdout",
     "output_type": "stream",
     "text": [
      "step 19 15376.341\n"
     ]
    },
    {
     "name": "stderr",
     "output_type": "stream",
     "text": [
      "468it [00:57,  8.11it/s]\n",
      "1it [00:00,  8.35it/s]"
     ]
    },
    {
     "name": "stdout",
     "output_type": "stream",
     "text": [
      "step 20 16462.066\n"
     ]
    },
    {
     "name": "stderr",
     "output_type": "stream",
     "text": [
      "468it [00:56,  8.32it/s]\n",
      "1it [00:00,  8.47it/s]"
     ]
    },
    {
     "name": "stdout",
     "output_type": "stream",
     "text": [
      "step 21 15838.001\n"
     ]
    },
    {
     "name": "stderr",
     "output_type": "stream",
     "text": [
      "468it [00:55,  8.36it/s]\n",
      "1it [00:00,  8.59it/s]"
     ]
    },
    {
     "name": "stdout",
     "output_type": "stream",
     "text": [
      "step 22 15840.223\n"
     ]
    },
    {
     "name": "stderr",
     "output_type": "stream",
     "text": [
      "468it [00:57,  8.21it/s]\n",
      "1it [00:00,  8.26it/s]"
     ]
    },
    {
     "name": "stdout",
     "output_type": "stream",
     "text": [
      "step 23 16110.936\n"
     ]
    },
    {
     "name": "stderr",
     "output_type": "stream",
     "text": [
      "468it [00:57,  8.20it/s]\n",
      "1it [00:00,  8.25it/s]"
     ]
    },
    {
     "name": "stdout",
     "output_type": "stream",
     "text": [
      "step 24 15290.582\n"
     ]
    },
    {
     "name": "stderr",
     "output_type": "stream",
     "text": [
      "468it [00:56,  8.22it/s]\n",
      "1it [00:00,  8.38it/s]"
     ]
    },
    {
     "name": "stdout",
     "output_type": "stream",
     "text": [
      "step 25 16234.644\n"
     ]
    },
    {
     "name": "stderr",
     "output_type": "stream",
     "text": [
      "468it [00:56,  8.24it/s]\n",
      "1it [00:00,  8.32it/s]"
     ]
    },
    {
     "name": "stdout",
     "output_type": "stream",
     "text": [
      "step 26 15888.995\n"
     ]
    },
    {
     "name": "stderr",
     "output_type": "stream",
     "text": [
      "468it [00:55,  8.43it/s]\n",
      "1it [00:00,  8.40it/s]"
     ]
    },
    {
     "name": "stdout",
     "output_type": "stream",
     "text": [
      "step 27 15178.535\n"
     ]
    },
    {
     "name": "stderr",
     "output_type": "stream",
     "text": [
      "468it [00:56,  8.24it/s]\n",
      "1it [00:00,  8.49it/s]"
     ]
    },
    {
     "name": "stdout",
     "output_type": "stream",
     "text": [
      "step 28 16245.202\n"
     ]
    },
    {
     "name": "stderr",
     "output_type": "stream",
     "text": [
      "291it [00:34,  8.45it/s]"
     ]
    }
   ],
   "source": [
    "from tqdm import tqdm\n",
    "train_net.set_train()\n",
    "for i in range(num_epochs):\n",
    "    for data in tqdm(iterator):\n",
    "        loss = train_net(data['image'])\n",
    "    print('step {}'.format(i), loss)"
   ]
  },
  {
   "cell_type": "code",
   "execution_count": 5,
   "id": "4fa7167b-0fab-4753-885a-dfd42889cf85",
   "metadata": {},
   "outputs": [],
   "source": [
    "test_dataset = ds.MnistDataset('./mnist/test')\n",
    "test_dataset = test_dataset.map(operations=transform)\n",
    "test_dataset = test_dataset.batch(batch_size, drop_remainder=True)\n",
    "test_iterator = test_dataset.create_dict_iterator()"
   ]
  },
  {
   "cell_type": "code",
   "execution_count": 6,
   "id": "952834d0-6ce1-4c1a-9816-d59f3f5da2ad",
   "metadata": {},
   "outputs": [
    {
     "data": {
      "image/png": "[encoded data removed]",
      "text/plain": [
       "<Figure size 1200x600 with 10 Axes>"
      ]
     },
     "metadata": {},
     "output_type": "display_data"
    }
   ],
   "source": [
    "import matplotlib.pyplot as plt\n",
    "\n",
    "# 加载MNIST数据集\n",
    "test = vae.decoder(ops.normal((128, 8), mindspore.Tensor(0), mindspore.Tensor(1)))\n",
    "# 随机选择一些图像\n",
    "num_images = 10\n",
    "\n",
    "# 创建一个2x5的子图\n",
    "fig, axes = plt.subplots(2, 5, figsize=(12, 6))\n",
    "axes = axes.ravel()\n",
    "\n",
    "# 可视化图像\n",
    "for i in range(10):\n",
    "    image = np.squeeze(test[i].reshape(28, 28).numpy())  # 去除额外的维度\n",
    "    axes[i].imshow(image, cmap='gray')\n",
    "    axes[i].axis('off')\n",
    "\n",
    "plt.tight_layout()\n",
    "plt.show()\n"
   ]
  },
  {
   "cell_type": "code",
   "execution_count": null,
   "id": "8bd93364-594b-46b0-a90c-c0d9b3274a80",
   "metadata": {},
   "outputs": [],
   "source": []
  }
 ],
 "metadata": {
  "kernelspec": {
   "display_name": "MindSpore",
   "language": "python",
   "name": "mindspore"
  },
  "language_info": {
   "codemirror_mode": {
    "name": "ipython",
    "version": 3
   },
   "file_extension": ".py",
   "mimetype": "text/x-python",
   "name": "python",
   "nbconvert_exporter": "python",
   "pygments_lexer": "ipython3",
   "version": "3.7.10"
  }
 },
 "nbformat": 4,
 "nbformat_minor": 5
}
